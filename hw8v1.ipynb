{
 "cells": [
  {
   "cell_type": "markdown",
   "metadata": {},
   "source": [
    "# Homework 8: SQL and PyTorch(21 pts)"
   ]
  },
  {
   "cell_type": "markdown",
   "metadata": {
    "slideshow": {
     "slide_type": ""
    },
    "tags": []
   },
   "source": [
    "name: Annie Ye\n",
    "\n",
    "email: yuhanye@umich.edu\n",
    "\n",
    "This homework assignment took me XX hours in total to complete. (Please help us to gauge the difficulty of the assignment.)"
   ]
  },
  {
   "cell_type": "markdown",
   "metadata": {},
   "source": [
    "## Collaboration Disclosure\n",
    "\n",
    "In the cell below, please list *everyone* with whom you discussed any of the homework problems, excluding only the GSIs and the course instructor. \n",
    "\n",
    "If you did not discuss the homework with anyone else, write __\"I did not discuss this homework with anyone.\"__\n",
    "\n",
    "Even if you discuss questions with other, the code you submit must be only yours. All work is checked with the [MOSS plagiarism detector](https://theory.stanford.edu/~aiken/moss/)."
   ]
  },
  {
   "cell_type": "markdown",
   "metadata": {},
   "source": [
    "--- I did not discuss this homework with anyone."
   ]
  },
  {
   "cell_type": "markdown",
   "metadata": {
    "editable": false,
    "slideshow": {
     "slide_type": ""
    },
    "tags": []
   },
   "source": [
    "## Submission Instructions\n",
    "Your homework solutions should be written entirely in this Jupyter notebook file. Once it contains your solutions, you should submit this notebook through Canvas. \n",
    "\n",
    "\n",
    "Before submitting, please make sure to __Cells->Run All__ executes without errors; errors in your code translate directly to point deductions. \n",
    "In general, you don't need to do explicitly raise errors (e.g. with the ```raise``` function) if we don't ask you to in the problem statement.\n",
    "However, even in cases where we ask you to check for errors, your submission should not contain any examples of your functions actually raising those errors.\n",
    "\n",
    "Note that many parts of this homework where you are expected to type in code will have ```NotImplementedError()``` as a placeholder. You need to delete this function and replace it with your own code.\n",
    "\n",
    "## Homework tips \n",
    "\n",
    "1. **Start early!** If you run into trouble installing things or importing packages, it’s\n",
    "best to find those problems well in advance, not the night before your assignment is\n",
    "due when we cannot help you!\n",
    "\n",
    "2. **Make sure you back up your work!** At a minimum, do your work in a Dropbox\n",
    "folder. Better yet, use git, which is well worth your time and effort to learn.\n",
    "\n",
    "3. **Be careful to follow directions!** Remember that Python is case sensitive. If\n",
    "you are ask you to define a function called my_function and you define a function\n",
    "called My_Function, you will not receive full credit. You may want to copy-paste\n",
    "the function names below to make sure that the functions in your notebook match.\n",
    "\n",
    "## Error checking\n",
    "\n",
    "You do not need to do error checking (raising errors, etc.) in your code unless we explicitly ask you to so in a problem.\n",
    "\n",
    "\n",
    "## Nbgrader\n",
    "\n",
    "We will be using `nbgrader` to grade your jupyter notebook. You will notice some `read-only` cells in the assignment that contain `assert` statements. These are tests that your code must pass for your solution to be correct. If any of the tests fail, you will get an python error and not get points for that question. \n",
    "\n",
    "**Note:** The tests shown not are not comprehensive; additional tests will be used at grading time. You are encouraged to read the problem carefully and verify your code covers all possible cases.\n",
    "\n",
    "**Be careful:** If a jupyter notebook cell takes longer than `60s` to run, the autograder will not grade it and you will receive zero credit for that question."
   ]
  },
  {
   "cell_type": "markdown",
   "metadata": {},
   "source": [
    "## Question 1: Basic SQL (13 pts)\n",
    "In this problem, you'll interact with a toy SQL database using Python's\n",
    "built-in `sqlite3` package. Documentation can be found at\n",
    "<https://docs.python.org/3/library/sqlite3.html>. For this problem,\n",
    "we'll use a popular toy SQLite database, called Chinook, which\n",
    "represents a digital music collection. See the documentation at <https://github.com/lerocha/chinook-database/blob/master/README.md>\n",
    "for a more detailed explanation. We'll use the `chinook.sqlite` file:"
   ]
  },
  {
   "cell_type": "code",
   "execution_count": 192,
   "metadata": {},
   "outputs": [],
   "source": [
    "import sqlite3\n",
    "con = sqlite3.connect('chinook.sqlite')\n",
    "cur = con.cursor()"
   ]
  },
  {
   "cell_type": "markdown",
   "metadata": {
    "deletable": false,
    "editable": false,
    "nbgrader": {
     "cell_type": "markdown",
     "checksum": "2d8a7eb43618ae43de5fec2ebace4add",
     "grade": false,
     "grade_id": "cell-e10bd26a8687d9ce",
     "locked": true,
     "schema_version": 3,
     "solution": false,
     "task": false
    }
   },
   "source": [
    "**1(a)** (2 pt) Load the database using the Python `sqlite3` package. How many tables are in the database? Save the answer in the variable `n_tables`."
   ]
  },
  {
   "cell_type": "code",
   "execution_count": 195,
   "metadata": {
    "deletable": false,
    "nbgrader": {
     "cell_type": "code",
     "checksum": "2058dbc61296d005826083c5972632e2",
     "grade": false,
     "grade_id": "1a",
     "locked": false,
     "schema_version": 3,
     "solution": true
    },
    "slideshow": {
     "slide_type": ""
    },
    "tags": []
   },
   "outputs": [
    {
     "data": {
      "text/plain": [
       "11"
      ]
     },
     "execution_count": 195,
     "metadata": {},
     "output_type": "execute_result"
    }
   ],
   "source": [
    "# YOUR CODE HERE\n",
    "\n",
    "cur.execute(\"SELECT name FROM sqlite_master WHERE type='table' AND name NOT LIKE 'sqlite_%';\")\n",
    "tables = cur.fetchall()\n",
    "n_tables = len(tables)\n",
    "\n",
    "con.close()\n",
    "\n",
    "n_tables"
   ]
  },
  {
   "cell_type": "code",
   "execution_count": 197,
   "metadata": {
    "deletable": false,
    "editable": false,
    "nbgrader": {
     "cell_type": "code",
     "checksum": "1ec5a927e724f0b160dec0c39d32d221",
     "grade": true,
     "grade_id": "load_ds",
     "locked": false,
     "points": 2,
     "schema_version": 3,
     "solution": false
    },
    "slideshow": {
     "slide_type": ""
    },
    "tags": []
   },
   "outputs": [],
   "source": [
    "assert n_tables == 11"
   ]
  },
  {
   "cell_type": "markdown",
   "metadata": {},
   "source": [
    "**1(b)** (2 pts) What are the names of the tables in the database? Save the answer as\n",
    "    a set of strings, `table_names`. **Note:** you should write Python `sqlite3`\n",
    "    code to answer this; don't just look up the answer in the\n",
    "    documentation!"
   ]
  },
  {
   "cell_type": "code",
   "execution_count": 200,
   "metadata": {
    "deletable": false,
    "nbgrader": {
     "cell_type": "code",
     "checksum": "14b9deef20a33a2c2f2fbdfc51baefc5",
     "grade": false,
     "grade_id": "1b",
     "locked": false,
     "schema_version": 3,
     "solution": true
    },
    "slideshow": {
     "slide_type": ""
    },
    "tags": []
   },
   "outputs": [
    {
     "data": {
      "text/plain": [
       "{'Album',\n",
       " 'Artist',\n",
       " 'Customer',\n",
       " 'Employee',\n",
       " 'Genre',\n",
       " 'Invoice',\n",
       " 'InvoiceLine',\n",
       " 'MediaType',\n",
       " 'Playlist',\n",
       " 'PlaylistTrack',\n",
       " 'Track'}"
      ]
     },
     "execution_count": 200,
     "metadata": {},
     "output_type": "execute_result"
    }
   ],
   "source": [
    "# YOUR CODE HERE\n",
    "con = sqlite3.connect('chinook.sqlite')\n",
    "cur = con.cursor()\n",
    "\n",
    "cur.execute(\"SELECT name FROM sqlite_master WHERE type='table' AND name NOT LIKE 'sqlite_%';\")\n",
    "tables = cur.fetchall()\n",
    "table_names = {table[0] for table in tables}\n",
    "\n",
    "con.close()\n",
    "\n",
    "table_names"
   ]
  },
  {
   "cell_type": "code",
   "execution_count": 202,
   "metadata": {
    "deletable": false,
    "editable": false,
    "nbgrader": {
     "cell_type": "code",
     "checksum": "e458f82227fa5fc96cfce5602bda39e4",
     "grade": true,
     "grade_id": "correct_1b",
     "locked": false,
     "points": 2,
     "schema_version": 3,
     "solution": false
    },
    "slideshow": {
     "slide_type": ""
    },
    "tags": []
   },
   "outputs": [],
   "source": [
    "expected = {'Album', 'Genre', 'Playlist', 'PlaylistTrack', 'Employee', 'Customer', 'InvoiceLine', 'Track', 'Artist', 'MediaType', 'Invoice'}\n",
    "assert table_names == expected"
   ]
  },
  {
   "cell_type": "markdown",
   "metadata": {},
   "source": [
    "**1(c)** (3 pts) Write a function `albums_starting_with(c)` that takes as an argument a single character `c` and\n",
    "    returns a list of the primary keys (AlbumIds) of all the albums whose titles\n",
    "    start with that character. Your function should ignore case, so that\n",
    "    the inputs \"a\" and \"A\" yield the same results. Include error\n",
    "    checking that raises an error in the event that the input is not a\n",
    "    single character.\n"
   ]
  },
  {
   "cell_type": "code",
   "execution_count": 205,
   "metadata": {
    "deletable": false,
    "nbgrader": {
     "cell_type": "code",
     "checksum": "56bafd1a6dbb6556e172ff953d2e9e09",
     "grade": false,
     "grade_id": "grade_13",
     "locked": false,
     "schema_version": 3,
     "solution": true
    },
    "slideshow": {
     "slide_type": ""
    },
    "tags": []
   },
   "outputs": [
    {
     "data": {
      "text/plain": [
       "[10,\n",
       " 14,\n",
       " 15,\n",
       " 24,\n",
       " 26,\n",
       " 29,\n",
       " 74,\n",
       " 75,\n",
       " 85,\n",
       " 89,\n",
       " 90,\n",
       " 94,\n",
       " 95,\n",
       " 96,\n",
       " 120,\n",
       " 139,\n",
       " 160,\n",
       " 167,\n",
       " 168,\n",
       " 169,\n",
       " 203,\n",
       " 224,\n",
       " 232,\n",
       " 233,\n",
       " 248,\n",
       " 254,\n",
       " 272,\n",
       " 273,\n",
       " 285,\n",
       " 296,\n",
       " 307,\n",
       " 319]"
      ]
     },
     "execution_count": 205,
     "metadata": {},
     "output_type": "execute_result"
    }
   ],
   "source": [
    "def albums_starting_with(c):\n",
    "    # YOUR CODE HERE\n",
    "    if not isinstance(c, str) or len(c) != 1:\n",
    "        raise Exception(\"Input must be a single character\")\n",
    "\n",
    "    c = c.upper()\n",
    "\n",
    "    con = sqlite3.connect('chinook.sqlite')\n",
    "    cur = con.cursor()\n",
    "\n",
    "    cur.execute(\"SELECT AlbumId FROM Album WHERE UPPER(Title) LIKE ?;\", (c + '%',))\n",
    "    res = cur.fetchall()\n",
    "\n",
    "    con.close()\n",
    "    \n",
    "    return [row[0] for row in res]\n",
    "\n",
    "res = albums_starting_with('a')\n",
    "res"
   ]
  },
  {
   "cell_type": "code",
   "execution_count": 207,
   "metadata": {
    "deletable": false,
    "editable": false,
    "nbgrader": {
     "cell_type": "code",
     "checksum": "a6e98886421898648fe5df9ae86aef06",
     "grade": true,
     "grade_id": "correct_13",
     "locked": false,
     "points": 3,
     "schema_version": 3,
     "solution": false
    },
    "slideshow": {
     "slide_type": ""
    },
    "tags": []
   },
   "outputs": [],
   "source": [
    "res = albums_starting_with('a')\n",
    "assert type(res) == list\n",
    "assert len(res) == 32\n",
    "for i in [10, 14, 15, 24, 26, 29, 74, 167, 319]:\n",
    "    assert i in res\n",
    "\n",
    "try:\n",
    "    albums_starting_with(3)\n",
    "except Exception:\n",
    "    pass\n",
    "else:\n",
    "    raise Exception(\"should raise an exception\")\n",
    "    "
   ]
  },
  {
   "cell_type": "markdown",
   "metadata": {},
   "source": [
    "**1(d)** (3 pts) Write a function `songs_starting_with(c)` that takes as an argument a single character and\n",
    "    returns a list of the primary keys (TrackIds) of all the **songs** whose album\n",
    "    names begin with that letter. Again, your function should ignore\n",
    "    case and perform error checking as in the previous exercise (again ignoring case).\n",
    "    **Hint:** you'll need a JOIN statement here. Don't forget that you\n",
    "    can use the `cursor.description` attribute to find out about tables\n",
    "    and the names of their columns."
   ]
  },
  {
   "cell_type": "code",
   "execution_count": 210,
   "metadata": {
    "deletable": false,
    "nbgrader": {
     "cell_type": "code",
     "checksum": "e4182cb63d7998469f5c0a2a3f99e74b",
     "grade": false,
     "grade_id": "grade_4",
     "locked": false,
     "schema_version": 3,
     "solution": true
    },
    "slideshow": {
     "slide_type": ""
    },
    "tags": []
   },
   "outputs": [
    {
     "data": {
      "text/plain": [
       "[85,\n",
       " 86,\n",
       " 87,\n",
       " 88,\n",
       " 89,\n",
       " 90,\n",
       " 91,\n",
       " 92,\n",
       " 93,\n",
       " 94,\n",
       " 95,\n",
       " 96,\n",
       " 97,\n",
       " 98,\n",
       " 131,\n",
       " 132,\n",
       " 133,\n",
       " 134,\n",
       " 135,\n",
       " 136,\n",
       " 137,\n",
       " 138,\n",
       " 139,\n",
       " 140,\n",
       " 141,\n",
       " 142,\n",
       " 143,\n",
       " 144,\n",
       " 145,\n",
       " 146,\n",
       " 147,\n",
       " 148,\n",
       " 246,\n",
       " 247,\n",
       " 248,\n",
       " 249,\n",
       " 250,\n",
       " 251,\n",
       " 252,\n",
       " 253,\n",
       " 254,\n",
       " 255,\n",
       " 256,\n",
       " 257,\n",
       " 258,\n",
       " 259,\n",
       " 260,\n",
       " 261,\n",
       " 262,\n",
       " 263,\n",
       " 264,\n",
       " 265,\n",
       " 266,\n",
       " 267,\n",
       " 268,\n",
       " 282,\n",
       " 283,\n",
       " 284,\n",
       " 285,\n",
       " 286,\n",
       " 287,\n",
       " 288,\n",
       " 289,\n",
       " 290,\n",
       " 291,\n",
       " 292,\n",
       " 293,\n",
       " 294,\n",
       " 295,\n",
       " 296,\n",
       " 297,\n",
       " 298,\n",
       " 323,\n",
       " 324,\n",
       " 325,\n",
       " 326,\n",
       " 327,\n",
       " 328,\n",
       " 329,\n",
       " 330,\n",
       " 331,\n",
       " 332,\n",
       " 333,\n",
       " 334,\n",
       " 335,\n",
       " 336,\n",
       " 923,\n",
       " 924,\n",
       " 925,\n",
       " 926,\n",
       " 927,\n",
       " 928,\n",
       " 929,\n",
       " 930,\n",
       " 931,\n",
       " 932,\n",
       " 933,\n",
       " 934,\n",
       " 935,\n",
       " 936,\n",
       " 937,\n",
       " 938,\n",
       " 939,\n",
       " 940,\n",
       " 941,\n",
       " 942,\n",
       " 943,\n",
       " 944,\n",
       " 945,\n",
       " 946,\n",
       " 947,\n",
       " 948,\n",
       " 1073,\n",
       " 1074,\n",
       " 1075,\n",
       " 1076,\n",
       " 1077,\n",
       " 1078,\n",
       " 1079,\n",
       " 1080,\n",
       " 1081,\n",
       " 1082,\n",
       " 1083,\n",
       " 1084,\n",
       " 1085,\n",
       " 1086,\n",
       " 1133,\n",
       " 1134,\n",
       " 1135,\n",
       " 1136,\n",
       " 1137,\n",
       " 1138,\n",
       " 1139,\n",
       " 1140,\n",
       " 1141,\n",
       " 1142,\n",
       " 1143,\n",
       " 1144,\n",
       " 1145,\n",
       " 1146,\n",
       " 1147,\n",
       " 1148,\n",
       " 1149,\n",
       " 1150,\n",
       " 1151,\n",
       " 1152,\n",
       " 1153,\n",
       " 1154,\n",
       " 1155,\n",
       " 1156,\n",
       " 1157,\n",
       " 1201,\n",
       " 1202,\n",
       " 1203,\n",
       " 1204,\n",
       " 1205,\n",
       " 1206,\n",
       " 1207,\n",
       " 1208,\n",
       " 1209,\n",
       " 1210,\n",
       " 1211,\n",
       " 1212,\n",
       " 1213,\n",
       " 1214,\n",
       " 1215,\n",
       " 1216,\n",
       " 1217,\n",
       " 1218,\n",
       " 1219,\n",
       " 1220,\n",
       " 1221,\n",
       " 1222,\n",
       " 1223,\n",
       " 1224,\n",
       " 1225,\n",
       " 1226,\n",
       " 1227,\n",
       " 1228,\n",
       " 1229,\n",
       " 1230,\n",
       " 1231,\n",
       " 1232,\n",
       " 1233,\n",
       " 1234,\n",
       " 1479,\n",
       " 1480,\n",
       " 1481,\n",
       " 1482,\n",
       " 1483,\n",
       " 1484,\n",
       " 1485,\n",
       " 1486,\n",
       " 1487,\n",
       " 1488,\n",
       " 1489,\n",
       " 1490,\n",
       " 1491,\n",
       " 1492,\n",
       " 1493,\n",
       " 1494,\n",
       " 1495,\n",
       " 1671,\n",
       " 1672,\n",
       " 1673,\n",
       " 1674,\n",
       " 1675,\n",
       " 1676,\n",
       " 1677,\n",
       " 1678,\n",
       " 1679,\n",
       " 1680,\n",
       " 1681,\n",
       " 1682,\n",
       " 1683,\n",
       " 1684,\n",
       " 1685,\n",
       " 1942,\n",
       " 1943,\n",
       " 1944,\n",
       " 1945,\n",
       " 1946,\n",
       " 1947,\n",
       " 1948,\n",
       " 1949,\n",
       " 1950,\n",
       " 1951,\n",
       " 1952,\n",
       " 1953,\n",
       " 1954,\n",
       " 1955,\n",
       " 1956,\n",
       " 2044,\n",
       " 2045,\n",
       " 2046,\n",
       " 2047,\n",
       " 2048,\n",
       " 2049,\n",
       " 2050,\n",
       " 2051,\n",
       " 2052,\n",
       " 2053,\n",
       " 2054,\n",
       " 2055,\n",
       " 2056,\n",
       " 2057,\n",
       " 2058,\n",
       " 2059,\n",
       " 2060,\n",
       " 2061,\n",
       " 2062,\n",
       " 2063,\n",
       " 2064,\n",
       " 2065,\n",
       " 2066,\n",
       " 2067,\n",
       " 2068,\n",
       " 2069,\n",
       " 2070,\n",
       " 2071,\n",
       " 2072,\n",
       " 2073,\n",
       " 2074,\n",
       " 2075,\n",
       " 2076,\n",
       " 2077,\n",
       " 2078,\n",
       " 2079,\n",
       " 2080,\n",
       " 2081,\n",
       " 2082,\n",
       " 2083,\n",
       " 2084,\n",
       " 2085,\n",
       " 2086,\n",
       " 2087,\n",
       " 2088,\n",
       " 2089,\n",
       " 2090,\n",
       " 2091,\n",
       " 2092,\n",
       " 2506,\n",
       " 2507,\n",
       " 2508,\n",
       " 2509,\n",
       " 2510,\n",
       " 2511,\n",
       " 2512,\n",
       " 2513,\n",
       " 2514,\n",
       " 2515,\n",
       " 2516,\n",
       " 2517,\n",
       " 2518,\n",
       " 2519,\n",
       " 2520,\n",
       " 2521,\n",
       " 2522,\n",
       " 2781,\n",
       " 2782,\n",
       " 2783,\n",
       " 2784,\n",
       " 2785,\n",
       " 2786,\n",
       " 2787,\n",
       " 2788,\n",
       " 2789,\n",
       " 2790,\n",
       " 2791,\n",
       " 2792,\n",
       " 2793,\n",
       " 2794,\n",
       " 2795,\n",
       " 2796,\n",
       " 2797,\n",
       " 2798,\n",
       " 2799,\n",
       " 2800,\n",
       " 2801,\n",
       " 2802,\n",
       " 2926,\n",
       " 2927,\n",
       " 2928,\n",
       " 2929,\n",
       " 2930,\n",
       " 2931,\n",
       " 2932,\n",
       " 2933,\n",
       " 2934,\n",
       " 2935,\n",
       " 2936,\n",
       " 2937,\n",
       " 2938,\n",
       " 2939,\n",
       " 2940,\n",
       " 2941,\n",
       " 2942,\n",
       " 2943,\n",
       " 2944,\n",
       " 2945,\n",
       " 2946,\n",
       " 2947,\n",
       " 2948,\n",
       " 3146,\n",
       " 3147,\n",
       " 3148,\n",
       " 3149,\n",
       " 3150,\n",
       " 3151,\n",
       " 3152,\n",
       " 3153,\n",
       " 3154,\n",
       " 3155,\n",
       " 3156,\n",
       " 3157,\n",
       " 3158,\n",
       " 3159,\n",
       " 3160,\n",
       " 3161,\n",
       " 3162,\n",
       " 3163,\n",
       " 3164,\n",
       " 3250,\n",
       " 3403,\n",
       " 3404,\n",
       " 3416,\n",
       " 3427,\n",
       " 3441,\n",
       " 3453]"
      ]
     },
     "execution_count": 210,
     "metadata": {},
     "output_type": "execute_result"
    }
   ],
   "source": [
    "def songs_starting_with(c):\n",
    "    # YOUR CODE HERE\n",
    "    if not isinstance(c, str) or len(c) != 1:\n",
    "        raise Exception(\"Input must be a single character\")\n",
    "    \n",
    "    c = c.upper()\n",
    "   \n",
    "    con = sqlite3.connect('chinook.sqlite')\n",
    "    cur = con.cursor()\n",
    "    \n",
    "    cur.execute(\"SELECT Track.TrackId FROM Track JOIN Album ON Track.AlbumId = Album.AlbumId WHERE UPPER(Album.Title) LIKE ?\", (c + '%',))\n",
    "    res = cur.fetchall()\n",
    "\n",
    "    con.close()\n",
    "    \n",
    "    return [row[0] for row in res]\n",
    "\n",
    "res = songs_starting_with('a')\n",
    "res"
   ]
  },
  {
   "cell_type": "code",
   "execution_count": 212,
   "metadata": {
    "deletable": false,
    "editable": false,
    "nbgrader": {
     "cell_type": "code",
     "checksum": "10daf1f3d270dd9d1d9b5fe9d140483b",
     "grade": true,
     "grade_id": "load_4",
     "locked": false,
     "points": 3,
     "schema_version": 3,
     "solution": false
    },
    "slideshow": {
     "slide_type": ""
    },
    "tags": []
   },
   "outputs": [],
   "source": [
    "res = songs_starting_with('a')\n",
    "assert type(res) == list\n",
    "assert len(res) == 369\n",
    "for i in [85, 86, 87, 331, 332, 333, 923, 924, 925]:\n",
    "    assert i in res\n",
    "\n",
    "try:\n",
    "    songs_starting_with(3)\n",
    "except Exception:\n",
    "    pass\n",
    "else:\n",
    "    raise Exception(\"should raise an exception\")\n",
    "\n",
    "try:\n",
    "    songs_starting_with('res')\n",
    "except Exception:\n",
    "    pass\n",
    "else:\n",
    "    raise Exception(\"should raise an exception\")"
   ]
  },
  {
   "cell_type": "markdown",
   "metadata": {},
   "source": [
    "**1(e)** (3 pts) Write a function `cost_of(c)` that takes as an argument a single character and\n",
    "    returns the cost of buying every song (consider only the songs that were sold - you need to look into InvoiceLine table) whose album begins with that\n",
    "    letter. This cost should be based on the tracks' unit prices when it was sold, so\n",
    "    that the cost of buying a set of tracks is simply the sum of the\n",
    "    unit prices of all the tracks in the set. Again your function should\n",
    "    ignore case and perform appropriate error checking.\n"
   ]
  },
  {
   "cell_type": "code",
   "execution_count": 215,
   "metadata": {
    "deletable": false,
    "nbgrader": {
     "cell_type": "code",
     "checksum": "02b9cd15d5943899ae5a0d9c97716b31",
     "grade": false,
     "grade_id": "grade_5",
     "locked": false,
     "schema_version": 3,
     "solution": true
    },
    "slideshow": {
     "slide_type": ""
    },
    "tags": []
   },
   "outputs": [
    {
     "data": {
      "text/plain": [
       "216.82"
      ]
     },
     "execution_count": 215,
     "metadata": {},
     "output_type": "execute_result"
    }
   ],
   "source": [
    "def cost_of(c):\n",
    "    # YOUR CODE HERE\n",
    "    if not isinstance(c, str) or len(c) != 1:\n",
    "        raise Exception(\"Input must be a single character\")\n",
    "    \n",
    "    c = c.upper()\n",
    "    \n",
    "    con = sqlite3.connect('chinook.sqlite')\n",
    "    cur = con.cursor()\n",
    "    \n",
    "    cur.execute(\"\"\"\n",
    "        WITH FirstPurchases AS (\n",
    "            SELECT \n",
    "                il.TrackId,\n",
    "                il.UnitPrice,\n",
    "                il.Quantity,\n",
    "                ROW_NUMBER() OVER (PARTITION BY il.TrackId ORDER BY i.InvoiceDate) as rn\n",
    "            FROM InvoiceLine il\n",
    "            JOIN Invoice i ON il.InvoiceId = i.InvoiceId\n",
    "            JOIN Track t ON il.TrackId = t.TrackId\n",
    "            JOIN Album a ON t.AlbumId = a.AlbumId\n",
    "            WHERE UPPER(a.Title) LIKE ?\n",
    "        )\n",
    "        SELECT SUM(UnitPrice * Quantity)\n",
    "        FROM FirstPurchases\n",
    "        WHERE rn = 1\"\"\", (c + '%',))\n",
    "    \n",
    "    result = cur.fetchone()[0]\n",
    "    con.close()\n",
    "    \n",
    "    return result\n",
    "    \n",
    "res = cost_of('a')\n",
    "res"
   ]
  },
  {
   "cell_type": "code",
   "execution_count": 217,
   "metadata": {
    "deletable": false,
    "editable": false,
    "nbgrader": {
     "cell_type": "code",
     "checksum": "30ed9674df15843cd1ff05dda8adbe6f",
     "grade": true,
     "grade_id": "load_5",
     "locked": false,
     "points": 3,
     "schema_version": 3,
     "solution": false
    },
    "slideshow": {
     "slide_type": ""
    },
    "tags": []
   },
   "outputs": [],
   "source": [
    "res = cost_of('a')\n",
    "assert type(res) == float\n",
    "assert abs(res - 216.82) < 1e-5\n",
    "\n",
    "try:\n",
    "    cost_of(3)\n",
    "except Exception:\n",
    "    pass\n",
    "else:\n",
    "    raise Exception(\"should raise an exception\")"
   ]
  },
  {
   "cell_type": "markdown",
   "metadata": {},
   "source": [
    "## Problem 2: Building simple models with Pytorch (8 points) \n",
    "In this problem, you'll use **Pytorch** to build the loss functions for a pair of commonly-used statistical models. \n",
    "\n",
    "We will use variables $X$ and $Y$, which will serve as the predictor (independent variable) and response (dependent variable), respectively. Please use $W$ to denote a parameter that multiplies the predictor, and $b$ to denote a bias parameter (i.e., a parameter that is added)."
   ]
  },
  {
   "cell_type": "markdown",
   "metadata": {},
   "source": [
    "**2(a)** (4 pts)\n",
    "\n",
    "In this model, the binary variable $Y$ is distributed as a Bernoulli random variable with success parameter $\\sigma(W^T X + b)$, where $\\sigma(z) = (1+\\exp(-z))^{-1}$ is the logistic function, $X \\in R^6$ is the predictor random variable, and $W \\in R^6, b \\in R$ are the model parameters. \n",
    " \n",
    "Using **Pytorch** code, implement a class `LogisticRegression` that inherits from `nn.module`. This class should should have two attributes `w` and `b` which should be `nn.parameters` with shapes `(6,1)` and `(1)` respectivelly. \n",
    "\n",
    "This class should a method called `forward` that takes in the predictor random variable `x` with shape `(N, 6)`, where `N` is the number of observations, and returns the success parameter (also known as the prediction of our model on $Y$).\n",
    "\n",
    "**Note:** Please initialize both `w, b` to be __all-one float tensors.__"
   ]
  },
  {
   "cell_type": "code",
   "execution_count": 221,
   "metadata": {
    "deletable": false,
    "nbgrader": {
     "cell_type": "code",
     "checksum": "0e1c1f68466a8c78fff57424583a98e3",
     "grade": false,
     "grade_id": "grade_21",
     "locked": false,
     "schema_version": 3,
     "solution": true
    },
    "slideshow": {
     "slide_type": ""
    },
    "tags": []
   },
   "outputs": [
    {
     "name": "stdout",
     "output_type": "stream",
     "text": [
      "Requirement already satisfied: torch in /opt/anaconda3/lib/python3.12/site-packages (2.5.1)\n",
      "Requirement already satisfied: filelock in /opt/anaconda3/lib/python3.12/site-packages (from torch) (3.13.1)\n",
      "Requirement already satisfied: typing-extensions>=4.8.0 in /opt/anaconda3/lib/python3.12/site-packages (from torch) (4.11.0)\n",
      "Requirement already satisfied: networkx in /opt/anaconda3/lib/python3.12/site-packages (from torch) (3.2.1)\n",
      "Requirement already satisfied: jinja2 in /opt/anaconda3/lib/python3.12/site-packages (from torch) (3.1.4)\n",
      "Requirement already satisfied: fsspec in /opt/anaconda3/lib/python3.12/site-packages (from torch) (2024.3.1)\n",
      "Requirement already satisfied: setuptools in /opt/anaconda3/lib/python3.12/site-packages (from torch) (69.5.1)\n",
      "Requirement already satisfied: sympy==1.13.1 in /opt/anaconda3/lib/python3.12/site-packages (from torch) (1.13.1)\n",
      "Requirement already satisfied: mpmath<1.4,>=1.1.0 in /opt/anaconda3/lib/python3.12/site-packages (from sympy==1.13.1->torch) (1.3.0)\n",
      "Requirement already satisfied: MarkupSafe>=2.0 in /opt/anaconda3/lib/python3.12/site-packages (from jinja2->torch) (2.1.3)\n"
     ]
    },
    {
     "data": {
      "text/plain": [
       "tensor([[0.8808],\n",
       "        [0.8808],\n",
       "        [0.8808],\n",
       "        [0.8808],\n",
       "        [0.8808],\n",
       "        [0.8808]], grad_fn=<SigmoidBackward0>)"
      ]
     },
     "execution_count": 221,
     "metadata": {},
     "output_type": "execute_result"
    }
   ],
   "source": [
    "!pip install torch\n",
    "\n",
    "import torch\n",
    "import torch.nn as nn\n",
    "\n",
    "class LogisticRegression(nn.Module):\n",
    "    # YOUR CODE HERE\n",
    "    \n",
    "    def __init__(self):\n",
    "        super(LogisticRegression, self).__init__()\n",
    "        self.w = nn.Parameter(torch.ones(6, 1, dtype=torch.float32))\n",
    "        self.b = nn.Parameter(torch.ones(1, dtype=torch.float32))\n",
    "    \n",
    "    def forward(self, x):\n",
    "        linear_output = torch.matmul(x, self.w) + self.b\n",
    "        y_pred = torch.sigmoid(linear_output)\n",
    "        return y_pred\n",
    "\n",
    "model = LogisticRegression()\n",
    "\n",
    "x = torch.eye(6).float()\n",
    "y = model.forward(x)\n",
    "y"
   ]
  },
  {
   "cell_type": "code",
   "execution_count": 223,
   "metadata": {
    "deletable": false,
    "editable": false,
    "nbgrader": {
     "cell_type": "code",
     "checksum": "df5533634491cdff167771db6d6d595e",
     "grade": true,
     "grade_id": "load_21",
     "locked": false,
     "points": 4,
     "schema_version": 3,
     "solution": false
    },
    "slideshow": {
     "slide_type": ""
    },
    "tags": []
   },
   "outputs": [],
   "source": [
    "model = LogisticRegression()\n",
    "assert type(model.w) == nn.Parameter\n",
    "assert type(model.b) == nn.Parameter\n",
    "x = torch.eye(6).float()\n",
    "y = model.forward(x)\n",
    "assert y.shape == (6, 1)"
   ]
  },
  {
   "cell_type": "markdown",
   "metadata": {},
   "source": [
    "**2(b)** (4 pts)\n",
    "\n",
    "Using **Pytorch** code, write a function called `neg_log` that takes in `y_true` (true value of $Y$) and `y_pred` (predicted value of $Y$) and returns the negative log-likelihood loss function. You can assume that both `y_true` and `y_pred` have shapes `N x 1` where `N` is the number of observations. \n",
    " \n",
    " __Hint:__ The loss should be a negative log-likelihood term, summed over all the observations. Remember that $Y$ is Bernoulli distributed which should suggest what the likelihood is. "
   ]
  },
  {
   "cell_type": "code",
   "execution_count": 226,
   "metadata": {
    "deletable": false,
    "nbgrader": {
     "cell_type": "code",
     "checksum": "064c813bef468e904f00cf7ed16c7b19",
     "grade": false,
     "grade_id": "grade_22",
     "locked": false,
     "schema_version": 3,
     "solution": true
    },
    "slideshow": {
     "slide_type": ""
    },
    "tags": []
   },
   "outputs": [],
   "source": [
    "def neg_log(y_true, y_pred):\n",
    "    # YOUR CODE HERE\n",
    "    epsilon = 1e-5\n",
    "    y_pred = torch.clamp(y_pred, epsilon, 1 - epsilon)\n",
    "\n",
    "    loss = - (y_true * torch.log(y_pred) + (1 - y_true) * torch.log(1 - y_pred))\n",
    "    total_loss = torch.sum(loss)\n",
    "    \n",
    "    return total_loss"
   ]
  },
  {
   "cell_type": "code",
   "execution_count": 228,
   "metadata": {
    "deletable": false,
    "editable": false,
    "nbgrader": {
     "cell_type": "code",
     "checksum": "a4093a729c16d1ff7ffe4af555781dc7",
     "grade": true,
     "grade_id": "load_22",
     "locked": false,
     "points": 4,
     "schema_version": 3,
     "solution": false
    },
    "slideshow": {
     "slide_type": ""
    },
    "tags": []
   },
   "outputs": [],
   "source": [
    "y_true = torch.tensor([1, 1, 1, 1, 1]).float().view(5, 1)\n",
    "y_pred = torch.tensor([0.5, 0.5, 0.5, 0.5, 0.5]).float().view(5, 1)\n",
    "assert 3.4 < neg_log(y_true, y_pred).item() < 3.6"
   ]
  },
  {
   "cell_type": "code",
   "execution_count": null,
   "metadata": {},
   "outputs": [],
   "source": []
  }
 ],
 "metadata": {
  "kernelspec": {
   "display_name": "Python 3 (ipykernel)",
   "language": "python",
   "name": "python3"
  },
  "language_info": {
   "codemirror_mode": {
    "name": "ipython",
    "version": 3
   },
   "file_extension": ".py",
   "mimetype": "text/x-python",
   "name": "python",
   "nbconvert_exporter": "python",
   "pygments_lexer": "ipython3",
   "version": "3.12.4"
  }
 },
 "nbformat": 4,
 "nbformat_minor": 4
}
