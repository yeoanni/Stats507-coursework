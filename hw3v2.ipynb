{
 "cells": [
  {
   "cell_type": "markdown",
   "metadata": {},
   "source": [
    "# Homework 3: More String, Lists, and Python Objects (18 pts)"
   ]
  },
  {
   "cell_type": "markdown",
   "metadata": {},
   "source": [
    "name: Annie Ye\n",
    "\n",
    "email: yuhanye@umich.edu\n",
    "\n",
    "This homework assignment took me 8 hours in total to complete. (Please help us to gauge the difficulty of the assignment.)"
   ]
  },
  {
   "cell_type": "markdown",
   "metadata": {},
   "source": [
    "## Collaboration Disclosure\n",
    "\n",
    "In the cell below, please list *everyone* with whom you discussed any of the homework problems, excluding only the GSIs and the course instructor. \n",
    "\n",
    "If you did not discuss the homework with anyone else, write __\"I did not discuss this homework with anyone.\"__\n",
    "\n",
    "Even if you discuss questions with other, the code you submit must be only yours. All work is checked with the [MOSS plagiarism detector](https://theory.stanford.edu/~aiken/moss/)."
   ]
  },
  {
   "cell_type": "markdown",
   "metadata": {},
   "source": [
    "--- \"I did not discuss this homework with anyone.\""
   ]
  },
  {
   "cell_type": "markdown",
   "metadata": {},
   "source": [
    "## Submission Instructions\n",
    "Your homework solutions should be written entirely in this Jupyter notebook file. Once it contains your solutions, you should submit this notebook through Canvas. \n",
    "\n",
    "\n",
    "Before submitting, please make sure to __Cells->Run All__ executes without errors; errors in your code translate directly to point deductions. \n",
    "In general, you don't need to do explicitly raise errors (e.g. with the ```raise``` function) if we don't ask you to in the problem statement.\n",
    "However, even in cases where we ask you to check for errors, your submission should not contain any examples of your functions actually raising those errors.\n",
    "\n",
    "Note that many parts of this homework where you are expected to type in code will have ```NotImplementedError()``` as a placeholder. You need to delete this function and replace it with your own code.\n",
    "\n",
    "## Importing libaries\n",
    "\n",
    "Unless specifically prohibited, you can import any Python library that comes included with Python (e.g. ```math```, ```datetime```) or that has been used in the lecture or homework prompts. You do not need any other libraries to complete the homework. Note that the graders will not install any additional libraries to grade an assignment.\n",
    "\n",
    "\n",
    "<!-- ## Coding style\n",
    "Please follow the [PEP8 guidelines](https://www.python.org/dev/peps/pep-0008/). The `pycodestyle_magic` package will remind you if you are not. To install it, run\n",
    "```\n",
    "pip install flake8 pycodestyle_magic\n",
    "```\n",
    "Once it is installed the following two Jupyter directives will enable syntax checking: -->\n",
    "\n",
    "## Homework tips \n",
    "\n",
    "1. **Start early!** If you run into trouble installing things or importing packages, it’s\n",
    "best to find those problems well in advance, not the night before your assignment is\n",
    "due when we cannot help you!\n",
    "\n",
    "2. **Make sure you back up your work!** At a minimum, do your work in a Dropbox\n",
    "folder. Better yet, use git, which is well worth your time and effort to learn.\n",
    "\n",
    "3. **Be careful to follow directions!** Remember that Python is case sensitive. If\n",
    "you are ask you to define a function called my_function and you define a function\n",
    "called My_Function, you will not receive full credit. You may want to copy-paste\n",
    "the function names below to make sure that the functions in your notebook match.\n",
    "\n",
    "## Error checking\n",
    "\n",
    "You do not need to do error checking (raising errors, etc.) in your code unless we explicitly ask you to so in a problem.\n",
    "\n",
    "## Coding style\n",
    "Please follow the [PEP8 guidelines](https://www.python.org/dev/peps/pep-0008/). The `pycodestyle_magic` package will remind you if you are not. To install it, run\n",
    "```\n",
    "pip install flake8 pycodestyle_magic\n",
    "```\n",
    "Once it is installed the following two Jupyter directives will enable syntax checking:\n",
    "\n",
    "\n",
    "## Nbgrader\n",
    "\n",
    "We will be using `nbgrader` to grade your jupyter notebook. You will notice some `read-only` cells in the assignment that contain `assert` statements. These are tests that your code must pass for your solution to be correct. If any of the tests fail, you will get an python error and not get points for that question. \n",
    "\n",
    "**Note:** The tests shown not are not comprehensive; additional tests will be used at grading time. You are encouraged to read the problem carefully and verify your code covers all possible cases.\n",
    "\n",
    "**Be careful:** If a jupyter notebook cell takes longer than `60s` to run, the autograder will not grade it and you will receive zero credit for that question."
   ]
  },
  {
   "cell_type": "code",
   "execution_count": 2,
   "metadata": {},
   "outputs": [],
   "source": [
    "import collections\n",
    "import string\n",
    "import itertools"
   ]
  },
  {
   "cell_type": "markdown",
   "metadata": {},
   "source": [
    "---\n",
    "## Question 1: Infinite sequences (8 pts)\n",
    "For each of the problems below, write a function which generates the given infinite sequence. We should be able to use your generators to access any entry of the sequence no matter how deep."
   ]
  },
  {
   "cell_type": "markdown",
   "metadata": {},
   "source": [
    "**1(a)** (2 pts) The prime numbers are\n",
    "\n",
    "$$2, 3, 5, 7, 11, 13, 17, \\dots$$\n",
    "\n",
    "Give a generator for the primes. (Note: many algorithms exist for this problem. Yours should be efficient enough that we can use it to generate reasonably large prime numbers.)"
   ]
  },
  {
   "cell_type": "code",
   "execution_count": 6,
   "metadata": {
    "deletable": false,
    "editable": true,
    "nbgrader": {
     "cell_type": "code",
     "checksum": "ec0fc1ad1c3da548dcd00b13f0f5f98e",
     "grade": false,
     "grade_id": "primes",
     "locked": false,
     "schema_version": 3,
     "solution": true
    },
    "slideshow": {
     "slide_type": ""
    },
    "tags": []
   },
   "outputs": [],
   "source": [
    "def primes():\n",
    "    # YOUR CODE HERE\n",
    "    primes = [2]\n",
    "    k = 3\n",
    "    yield 2\n",
    "    while k > 2:\n",
    "        for prime in primes:\n",
    "            if k % prime == 0:\n",
    "                break\n",
    "        else:\n",
    "            primes.append(k)\n",
    "            yield k\n",
    "        k += 1        "
   ]
  },
  {
   "cell_type": "code",
   "execution_count": 8,
   "metadata": {
    "deletable": false,
    "editable": false,
    "nbgrader": {
     "cell_type": "code",
     "checksum": "f31b467e2800e3317e5a1b5006743e1d",
     "grade": true,
     "grade_id": "correct_prime",
     "locked": false,
     "points": 2,
     "schema_version": 3,
     "solution": false
    }
   },
   "outputs": [],
   "source": [
    "\"\"\"Check that squares returns the correct output for several inputs\"\"\"\n",
    "p = primes()\n",
    "plist = [2,3,5,7,11,13,17,19,23,29]\n",
    "for i in range(10):\n",
    "    assert next(p) == plist[i]"
   ]
  },
  {
   "cell_type": "markdown",
   "metadata": {},
   "source": [
    "**1(b)** (3 pts) The *ruler sequence* is\n",
    "\n",
    "$$1, 2, 2, 3, 3, 4, 4, 4, 5, 5, 5, 6, 6, 6, 7, 7, 7, 7\\dots$$\n",
    "\n",
    "The first number (1) appears once; the next two numbers (2 and 3) appear twice, the next three numbers appear three times, etc.\n",
    "\n",
    "Hint: You are highly encouraged to use relevant functions from itertools to make your solution simple"
   ]
  },
  {
   "cell_type": "code",
   "execution_count": 11,
   "metadata": {
    "deletable": false,
    "editable": true,
    "nbgrader": {
     "cell_type": "code",
     "checksum": "78195e54db92fe7c15670ab17b6a2bdb",
     "grade": false,
     "grade_id": "ruler",
     "locked": false,
     "schema_version": 3,
     "solution": true
    },
    "slideshow": {
     "slide_type": ""
    },
    "tags": []
   },
   "outputs": [],
   "source": [
    "import itertools\n",
    "\n",
    "def ruler():\n",
    "    # YOUR CODE HERE\n",
    "    k = 1\n",
    "    num = 1\n",
    "    count = 1\n",
    "    while True:\n",
    "        for i in range(num):\n",
    "            yield from itertools.repeat(k, count)\n",
    "            k += 1\n",
    "            i += 1\n",
    "        count += 1\n",
    "        num += 1"
   ]
  },
  {
   "cell_type": "code",
   "execution_count": 13,
   "metadata": {
    "deletable": false,
    "editable": false,
    "nbgrader": {
     "cell_type": "code",
     "checksum": "979320ad9c7632a1e856e748299790b2",
     "grade": true,
     "grade_id": "correct_ruler",
     "locked": false,
     "points": 3,
     "schema_version": 3,
     "solution": false
    }
   },
   "outputs": [],
   "source": [
    "r = ruler()\n",
    "ruler_numbers = [1, 2, 2, 3, 3, 4, 4, 4, 5, 5, 5, 6, 6, 6, 7, 7, 7, 7, 8, 8, 8, 8]\n",
    "for n in ruler_numbers:\n",
    "    assert next(r) == n"
   ]
  },
  {
   "cell_type": "markdown",
   "metadata": {},
   "source": [
    "**1(c)** (3 pts) The look-and-say sequence  \n",
    "\n",
    "$$1, 11, 21, 1211, 111221, 312211, 13112221, 1113213211, \\dots$$\n",
    "\n",
    "is generated as follows:\n",
    "\n",
    "1. The first entry is one.\n",
    "2. The second entry is generated by reading the first entry aloud: \"one one\"\n",
    "3. The third entry is generated by reading the second entry aloud: \"two ones\"\n",
    "4. The fourth entry is generated by reading the third entry aloud: \"one two and one one\"\n",
    "5. The fifth entry is therefore \"one one, one two, and two ones\"\n",
    "\n",
    "... and so forth. Note that each entry of the sequence should be a `str` object."
   ]
  },
  {
   "cell_type": "code",
   "execution_count": 16,
   "metadata": {
    "deletable": false,
    "editable": true,
    "nbgrader": {
     "cell_type": "code",
     "checksum": "be1e455a8fd4a19f6a11ae8f7f322185",
     "grade": false,
     "grade_id": "look_say",
     "locked": false,
     "schema_version": 3,
     "solution": true
    },
    "slideshow": {
     "slide_type": ""
    },
    "tags": []
   },
   "outputs": [],
   "source": [
    "def look_say():\n",
    "    # YOUR CODE HERE\n",
    "    count = 1\n",
    "    str1 = '1'\n",
    "    yield str1\n",
    "    while True:\n",
    "        str2 = ''\n",
    "        count = 1\n",
    "        for k in range(1, len(str1)):\n",
    "            if str1[k] == str1[k - 1]:\n",
    "                count += 1\n",
    "            else:\n",
    "                str2 += str(count) + str1[k - 1]\n",
    "                count = 1\n",
    "        str2 += str(count) + str1[- 1]        \n",
    "        yield str2\n",
    "        str1 = str2            "
   ]
  },
  {
   "cell_type": "code",
   "execution_count": null,
   "metadata": {},
   "outputs": [
    {
     "name": "stdout",
     "output_type": "stream",
     "text": [
      "First term: 1\n",
      "Validation successful: Terms match!\n",
      "Validation successful: Terms match!\n",
      "Validation successful: Terms match!\n",
      "Validation successful: Terms match!\n",
      "Validation successful: Terms match!\n",
      "Validation successful: Terms match!\n",
      "Validation successful: Terms match!\n",
      "Validation successful: Terms match!\n",
      "Validation successful: Terms match!\n",
      "Validation successful: Terms match!\n",
      "Validated 10 terms. Time elapsed: 0.00 seconds.\n",
      "Validation successful: Terms match!\n",
      "Validation successful: Terms match!\n",
      "Validation successful: Terms match!\n",
      "Validation successful: Terms match!\n",
      "Validation successful: Terms match!\n",
      "Validation successful: Terms match!\n",
      "Validation successful: Terms match!\n",
      "Validation successful: Terms match!\n",
      "Validation successful: Terms match!\n",
      "Validation successful: Terms match!\n",
      "Validated 20 terms. Time elapsed: 0.00 seconds.\n",
      "Validation successful: Terms match!\n",
      "Validation successful: Terms match!\n",
      "Validation successful: Terms match!\n",
      "Validation successful: Terms match!\n",
      "Validation successful: Terms match!\n",
      "Validation successful: Terms match!\n",
      "Validation successful: Terms match!\n",
      "Validation successful: Terms match!\n",
      "Validation successful: Terms match!\n",
      "Validation successful: Terms match!\n",
      "Validated 30 terms. Time elapsed: 0.02 seconds.\n",
      "Validation successful: Terms match!\n",
      "Validation successful: Terms match!\n",
      "Validation successful: Terms match!\n",
      "Validation successful: Terms match!\n",
      "Validation successful: Terms match!\n",
      "Validation successful: Terms match!\n",
      "Validation successful: Terms match!\n",
      "Validation successful: Terms match!\n",
      "Validation successful: Terms match!\n",
      "Validation successful: Terms match!\n",
      "Validated 40 terms. Time elapsed: 0.13 seconds.\n",
      "Validation successful: Terms match!\n",
      "Validation successful: Terms match!\n",
      "Validation successful: Terms match!\n",
      "Validation successful: Terms match!\n",
      "Validation successful: Terms match!\n",
      "Validation successful: Terms match!\n",
      "Validation successful: Terms match!\n",
      "Validation successful: Terms match!\n",
      "Validation successful: Terms match!\n",
      "Validation successful: Terms match!\n",
      "Validated 50 terms. Time elapsed: 1.69 seconds.\n",
      "Validation successful: Terms match!\n",
      "Validation successful: Terms match!\n",
      "Validation successful: Terms match!\n",
      "Validation successful: Terms match!\n",
      "Validation successful: Terms match!\n",
      "Validation successful: Terms match!\n"
     ]
    }
   ],
   "source": [
    "import time\n",
    "\n",
    "def validate_look_say(prev, current):\n",
    "    \"\"\"Check if `current` is a valid description of `prev` in the look-and-say sequence.\"\"\"\n",
    "    description = ''\n",
    "    count = 1\n",
    "    for i in range(1, len(prev)):\n",
    "        if prev[i] == prev[i - 1]:\n",
    "            count += 1\n",
    "        else:\n",
    "            description += str(count) + prev[i - 1]\n",
    "            count = 1\n",
    "    description += str(count) + prev[-1]  # Add last group\n",
    "\n",
    "    # Print whether the generated term matches the expected term\n",
    "    if description == current:\n",
    "        print(\"Validation successful: Terms match!\")\n",
    "    else:\n",
    "        print(\"Validation failed: Terms do not match!\")\n",
    "\n",
    "    return description == current\n",
    "\n",
    "def test_look_say_sequence_with_timing(limit=100):\n",
    "    \"\"\"Test the look-and-say sequence up to `limit` terms with timing.\"\"\"\n",
    "    s = look_say()\n",
    "    prev_term = next(s)\n",
    "    print(f\"First term: {prev_term}\")  # Debug: Print the first term\n",
    "    \n",
    "    start_time = time.time()  # Start timing\n",
    "\n",
    "    for i in range(1, limit):\n",
    "        current_term = next(s)\n",
    "\n",
    "        # Validate the current term based on the previous one\n",
    "        assert validate_look_say(prev_term, current_term), f\"Test failed at term {i+1}\"\n",
    "        \n",
    "        # Print every term to track progress and time\n",
    "        if i % 10 == 0:  # Adjust this to print less frequently if needed\n",
    "            elapsed_time = time.time() - start_time  # Calculate time elapsed\n",
    "            print(f\"Validated {i} terms. Time elapsed: {elapsed_time:.2f} seconds.\")\n",
    "\n",
    "        prev_term = current_term\n",
    "    \n",
    "    print(f\"Test passed: Successfully generated and validated {limit} terms in {time.time() - start_time:.2f} seconds!\")\n",
    "\n",
    "# Run the test for 100 terms\n",
    "test_look_say_sequence_with_timing(100)"
   ]
  },
  {
   "cell_type": "code",
   "execution_count": null,
   "metadata": {
    "deletable": false,
    "editable": false,
    "nbgrader": {
     "cell_type": "code",
     "checksum": "ba7a444ef7c89e731fdad7d890bfc99b",
     "grade": true,
     "grade_id": "correct_look_say",
     "locked": false,
     "points": 3,
     "schema_version": 3,
     "solution": false
    }
   },
   "outputs": [],
   "source": [
    "s = look_say()\n",
    "look_say_first_ten = ['1',\n",
    " '11',\n",
    " '21',\n",
    " '1211',\n",
    " '111221',\n",
    " '312211',\n",
    " '13112221',\n",
    " '1113213211',\n",
    " '31131211131221',\n",
    " '13211311123113112211']\n",
    "for i in range(10):\n",
    "    s_i = next(s)\n",
    "    assert isinstance(s_i, str)\n",
    "    assert s_i == look_say_first_ten[i]"
   ]
  },
  {
   "cell_type": "markdown",
   "metadata": {},
   "source": [
    "### Question 2: Simple ciphers (5 pts)\n",
    "\n",
    "A *cipher* is an algorithm for encrypting or decrypting a text message, called *plaintext*, into *ciphertext*. In this exercise, we will assume that all plaintext to be encrypted or decrypted are composed of the lower-case Roman alphabet, without any punctuation or whitespace. Examples of such messages could be\n",
    "\n",
    "```attackatdawn```\n",
    "\n",
    "or \n",
    "\n",
    "```iamajellyfilleddonut```."
   ]
  },
  {
   "cell_type": "code",
   "execution_count": null,
   "metadata": {
    "deletable": false,
    "editable": true,
    "nbgrader": {
     "cell_type": "code",
     "checksum": "a3185d99ed95138bb5421ee329d95cb2",
     "grade": false,
     "grade_id": "enc_caesar",
     "locked": false,
     "schema_version": 3,
     "solution": true
    },
    "slideshow": {
     "slide_type": ""
    },
    "tags": []
   },
   "outputs": [],
   "source": [
    "def enc_caesar(s: str, k: int) -> str:\n",
    "    '''\n",
    "    Encrypt the message s using Ceasar cipher with key k.\n",
    "    \n",
    "    >>> enc_caeasar('thequickbrownfoxjumpsoverthelazydog', 1)\n",
    "    'uifrvjdlcspxogpykvnqtpwfsuifmbazeph'\n",
    "    '''\n",
    "    # YOUR CODE HERE\n",
    "    enc_str = ''\n",
    "    if k % 26 == 0:\n",
    "        return s\n",
    "    \n",
    "    k = k % 26\n",
    "    \n",
    "    for i in range(len(s)):\n",
    "        new_char = chr(((ord(s[i]) - ord('a') + k) % 26) + ord('a'))\n",
    "        enc_str += new_char\n",
    "    return enc_str"
   ]
  },
  {
   "cell_type": "code",
   "execution_count": null,
   "metadata": {
    "deletable": false,
    "editable": false,
    "nbgrader": {
     "cell_type": "code",
     "checksum": "d34957a641578635957775375212a647",
     "grade": true,
     "grade_id": "correct_enc_caesar",
     "locked": false,
     "points": 2,
     "schema_version": 3,
     "solution": false
    }
   },
   "outputs": [],
   "source": [
    "public_tests = [('thequickbrownfoxjumpsoverthelazydog', 1, 'uifrvjdlcspxogpykvnqtpwfsuifmbazeph'), ('howdoesthiscodehandlewrapping', 18, 'zgovgwklzakugvwzsfvdwojshhafy'),('thekeycanbenegative', -3, 'qebhbvzxkybkbdxqfsb')]\n",
    "for msg, k, enc in public_tests:\n",
    "    assert enc_caesar(msg, k) == enc"
   ]
  },
  {
   "cell_type": "code",
   "execution_count": null,
   "metadata": {},
   "outputs": [],
   "source": [
    "enc_tests = [\n",
    "    ('thequickbrownfoxjumpsoverthelazydog', 0, 'thequickbrownfoxjumpsoverthelazydog'),\n",
    "    ('packmyboxwithfivedozenliquorjugs', 5, 'ufhprdgtcbnymknajitejsqnvztwozlx'),\n",
    "    ('abcdefghijklmnopqrstuvwxyz', 13, 'nopqrstuvwxyzabcdefghijklm'),\n",
    "    ('abcdefghijklmnopqrstuvwxyz', 25, 'zabcdefghijklmnopqrstuvwxy'),\n",
    "    ('thequickbrownfoxjumpsoverthelazydog', 26, 'thequickbrownfoxjumpsoverthelazydog'),\n",
    "    ('packmyboxwithfivedozenliquorjugs', 52, 'packmyboxwithfivedozenliquorjugs'),\n",
    "    ('packmyboxwithfivedozenliquorjugs', 27, 'qbdlnzcpyxjuigjwfepafomjrvpskvht'),\n",
    "    ('abcdefghijklmnopqrstuvwxyz', 100, 'wxyzabcdefghijklmnopqrstuv'),\n",
    "    ('thequickbrownfoxjumpsoverthelazydog', -1, 'sgdpthbjaqnvmenwitlornudqsgdkzyxcnf'),\n",
    "    ('thequickbrownfoxjumpsoverthelazydog', -25, 'uifrvjdlcspxogpykvnqtpwfsuifmbazeph'),\n",
    "    ('packmyboxwithfivedozenliquorjugs', -27, 'ozbjlxanwvhsgehudcnydmkhptnqitfr'),\n",
    "    ('thequickbrownfoxjumpsoverthelazydog', -100, 'xliuymgofvsarjsbnyqtwszivxlipedchsk'),\n",
    "]\n",
    "\n",
    "for msg, k, expected_output in combined_tests:\n",
    "    output = enc_caesar(msg, k)\n",
    "    assert output == expected_output, f\"Test failed for input: '{msg}' with key {k}. Got {output}, expected {expected_output}\"\n",
    "\n",
    "print(\"All enc_tests cases passed!\")"
   ]
  },
  {
   "cell_type": "code",
   "execution_count": null,
   "metadata": {
    "deletable": false,
    "editable": true,
    "nbgrader": {
     "cell_type": "code",
     "checksum": "14a77ac20f2ffe45f4a4f17e7610643e",
     "grade": false,
     "grade_id": "dec_caesar",
     "locked": false,
     "schema_version": 3,
     "solution": true
    },
    "slideshow": {
     "slide_type": ""
    },
    "tags": []
   },
   "outputs": [],
   "source": [
    "def dec_caesar(s: str, k: int) -> str:\n",
    "    '''\n",
    "    Decrypt the message s using Ceasar cypher with key k.\n",
    "    \n",
    "    >>> dec_caeasar('uifrvjdlcspxogpykvnqtpwfsuifmbazeph', 1)\n",
    "    'thequickbrownfoxjumpsoverthelazydog'\n",
    "    '''\n",
    "    # YOUR CODE HERE\n",
    "    dec_str = ''\n",
    "    if k % 26 == 0:\n",
    "        return s\n",
    "    \n",
    "    k = -(k % 26)\n",
    "    \n",
    "    for i in range(len(s)):\n",
    "        dec_str += chr(((ord(s[i]) - ord('a') + k) % 26) + ord('a'))\n",
    "    return dec_str"
   ]
  },
  {
   "cell_type": "code",
   "execution_count": null,
   "metadata": {
    "deletable": false,
    "editable": false,
    "nbgrader": {
     "cell_type": "code",
     "checksum": "cb49ed8a1d9b720a605beea4b18202dd",
     "grade": true,
     "grade_id": "correct_dec_caesar",
     "locked": false,
     "points": 3,
     "schema_version": 3,
     "solution": false
    }
   },
   "outputs": [],
   "source": [
    "public_tests = [('thequickbrownfoxjumpsoverthelazydog', 1, 'uifrvjdlcspxogpykvnqtpwfsuifmbazeph'), ('howdoesthiscodehandlewrapping', 18, 'zgovgwklzakugvwzsfvdwojshhafy'),('thekeycanbenegative', -3, 'qebhbvzxkybkbdxqfsb')]\n",
    "for msg, k, enc in public_tests: \n",
    "    assert dec_caesar(enc, k) == msg"
   ]
  },
  {
   "cell_type": "code",
   "execution_count": null,
   "metadata": {},
   "outputs": [],
   "source": [
    "dec_tests = [\n",
    "    ('uifrvjdlcspxogpykvnqtpwfsvifmbazep', 1, 'thequickbrownfoxjumpsoveruhelazydo'),  # Shifted by 1\n",
    "    ('ufhpdbctbvnkyonajitqjsvqnytzpynx', 5, 'packywxowqiftjivedolenqlitouktis'),  # Shifted by 5\n",
    "    ('nopqrstuvwxyzabcdefghijklm', 13, 'abcdefghijklmnopqrstuvwxyz'),  # Shifted by 13 (ROT13)\n",
    "    ('zabcdefghijklmnopqrstuvwxy', 25, 'abcdefghijklmnopqrstuvwxyz'),  # Shifted by 25\n",
    "    ('thequickbrownfoxjumpsoverthelazydog', 26, 'thequickbrownfoxjumpsoverthelazydog'),  # No shift\n",
    "    ('packmyboxwithfivedozenliquorjugs', 52, 'packmyboxwithfivedozenliquorjugs'),  # Shifted by 52 (no change)\n",
    "    ('qbdlnzcpyxjvkgjwfpadenmjrvsktvht', 27, 'packmyboxwiujfiveozcdmliqurjsugs'),  # Shifted by 27 (equivalent to 1)\n",
    "    ('mnopqrstuvwxyzabcdefghijkl', 100, 'qrstuvwxyzabcdefghijklmnop'),  # Shifted by 100 (100 % 26 = 22)\n",
    "    \n",
    "    ('sgdpthbjaqnvemwitlornudqsgkyxcnf', -1, 'thequickbrowfnxjumpsoverthlzydog'),  # Negative shift by -1\n",
    "    ('sgdpthbjaqnvemwitlornudqsgkyxcnf', -25, 'rfcosgaizpmudlvhsknqmtcprfjxwbme'),  # Equivalent to shifting by 1\n",
    "    ('sgdpthbjaqnvemwitlornudqsgkyxcnf', -26, 'sgdpthbjaqnvemwitlornudqsgkyxcnf'),\n",
    "    ('ozbllxanvhsgeuhndcygkhptkhtniftr', -27, 'pacmmybowithfvioedzhliquliuojgus'),  # Shifted by -1\n",
    "    ('pcfoqwezdjmtlupfnslrkqtpdyjxydmn', -100, 'lybkmsavzfiphqlbjohngmplzuftuzij'),  # Large negative shift (-100 % 26 = -22)\n",
    "]\n",
    "\n",
    "# Run the decryption test cases\n",
    "for msg, k, expected_output in dec_tests:\n",
    "    output = dec_caesar(msg, k)\n",
    "    assert output == expected_output, f\"Test failed for decryption of '{msg}' with key {k}. Got {output}, expected {expected_output}\"\n",
    "\n",
    "print(\"All dec_tests cases passed!\")"
   ]
  },
  {
   "cell_type": "markdown",
   "metadata": {},
   "source": [
    "### Question 3 (5 pts) Valid String.\n",
    "Given a string s containing just the characters '(', ')', '{', '}', '[' and ']', determine if the input string is valid.\n",
    "\n",
    "An input string is valid if:\n",
    "\n",
    "1) Open brackets must be closed by the same type of brackets.\n",
    "2) Open brackets must be closed in the correct order.\n",
    "3) Every close bracket has a corresponding open bracket of the same type.\n"
   ]
  },
  {
   "cell_type": "code",
   "execution_count": null,
   "metadata": {
    "deletable": false,
    "editable": true,
    "nbgrader": {
     "cell_type": "code",
     "checksum": "814026852d375bebf517527a757c98b2",
     "grade": false,
     "grade_id": "is_valid",
     "locked": false,
     "schema_version": 3,
     "solution": true
    },
    "slideshow": {
     "slide_type": ""
    },
    "tags": []
   },
   "outputs": [],
   "source": [
    "def is_valid(s):\n",
    "    bracket_map = {')': '(', '}': '{', ']': '['}\n",
    "    stack = []\n",
    "\n",
    "    for char in s:\n",
    "        if char in bracket_map.values():\n",
    "            stack.append(char)\n",
    "        elif char in bracket_map:\n",
    "            if not stack or stack[-1] != bracket_map[char]:\n",
    "                return False\n",
    "            stack.pop()\n",
    "        else:\n",
    "            return False\n",
    "\n",
    "    return not stack"
   ]
  },
  {
   "cell_type": "code",
   "execution_count": null,
   "metadata": {
    "deletable": false,
    "editable": false,
    "nbgrader": {
     "cell_type": "code",
     "checksum": "2e0c2e9359f29fa50b933a2ef332aafa",
     "grade": true,
     "grade_id": "correct_is_valid",
     "locked": false,
     "points": 5,
     "schema_version": 3,
     "solution": false
    }
   },
   "outputs": [],
   "source": [
    "assert is_valid('()') == True\n",
    "assert is_valid('([{]}') == False\n",
    "assert is_valid('([{}])') == True"
   ]
  },
  {
   "cell_type": "code",
   "execution_count": null,
   "metadata": {},
   "outputs": [],
   "source": [
    "assert is_valid('[)(]') == False\n",
    "assert is_valid('[[]]') == True\n",
    "assert is_valid(\"()[]{}\") == True\n",
    "assert is_valid(\"({[]})\") == True\n",
    "assert is_valid(\"((((((((()))))))))\") == True\n",
    "assert is_valid(\"()(){}[]\") == True\n",
    "assert is_valid(\"{[()()]}\") == True\n",
    "assert is_valid(\"\") == True\n",
    "assert is_valid(\"(\") == False\n",
    "assert is_valid(\")\") == False\n",
    "assert is_valid(\"(]\") == False\n",
    "assert is_valid(\"([)]\") == False\n",
    "assert is_valid(\"{[}\") == False\n",
    "assert is_valid(\"{[(()]\") == False\n",
    "assert is_valid(\"(((()))\") == False\n",
    "assert is_valid(\"(((([]))))\") == True\n",
    "assert is_valid(\"([{}((){})])\") == True\n",
    "assert is_valid(\"{([][)]}\") == False"
   ]
  },
  {
   "cell_type": "code",
   "execution_count": null,
   "metadata": {},
   "outputs": [],
   "source": []
  },
  {
   "cell_type": "code",
   "execution_count": null,
   "metadata": {},
   "outputs": [],
   "source": []
  }
 ],
 "metadata": {
  "kernelspec": {
   "display_name": "Python 3 (ipykernel)",
   "language": "python",
   "name": "python3"
  },
  "language_info": {
   "codemirror_mode": {
    "name": "ipython",
    "version": 3
   },
   "file_extension": ".py",
   "mimetype": "text/x-python",
   "name": "python",
   "nbconvert_exporter": "python",
   "pygments_lexer": "ipython3",
   "version": "3.12.4"
  }
 },
 "nbformat": 4,
 "nbformat_minor": 4
}
